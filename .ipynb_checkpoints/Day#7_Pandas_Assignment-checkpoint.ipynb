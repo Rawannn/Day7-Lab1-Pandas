{
 "cells": [
  {
   "cell_type": "code",
   "execution_count": 1,
   "id": "d3aaed2d",
   "metadata": {},
   "outputs": [],
   "source": [
    "import pandas as pd"
   ]
  },
  {
   "cell_type": "markdown",
   "id": "c8502047",
   "metadata": {},
   "source": [
    "## Q1: Create a Series with indexes = 1, 2, 3 and has three names."
   ]
  },
  {
   "cell_type": "code",
   "execution_count": 2,
   "id": "dc122631",
   "metadata": {},
   "outputs": [
    {
     "name": "stdout",
     "output_type": "stream",
     "text": [
      "1    rawan\n",
      "2     amal\n",
      "3      may\n",
      "dtype: object\n"
     ]
    }
   ],
   "source": [
    "import numpy as np\n",
    "\n",
    "data = np.array(['rawan', 'amal', 'may'])\n",
    "ser = pd.Series(data, index=[1, 2, 3])\n",
    "print(ser)"
   ]
  },
  {
   "cell_type": "markdown",
   "id": "443e73f6",
   "metadata": {},
   "source": [
    "## Q2: Change indexes to 11, 12, 13."
   ]
  },
  {
   "cell_type": "code",
   "execution_count": 3,
   "id": "ae224dba",
   "metadata": {},
   "outputs": [
    {
     "name": "stdout",
     "output_type": "stream",
     "text": [
      "Series with new index\n",
      "11    rawan\n",
      "12     amal\n",
      "13      may\n",
      "dtype: object\n"
     ]
    }
   ],
   "source": [
    "ser.index = list([11,12,13])\n",
    "print('Series with new index')\n",
    "print(ser)"
   ]
  },
  {
   "cell_type": "markdown",
   "id": "7f562099",
   "metadata": {},
   "source": [
    "## Q3: Retrieve First and second elements."
   ]
  },
  {
   "cell_type": "code",
   "execution_count": 16,
   "id": "bbe9dee3",
   "metadata": {},
   "outputs": [
    {
     "name": "stdout",
     "output_type": "stream",
     "text": [
      "rawan\n",
      "amal\n"
     ]
    }
   ],
   "source": [
    "print(ser[11])\n",
    "print(ser[12])"
   ]
  },
  {
   "cell_type": "markdown",
   "id": "c771754d",
   "metadata": {},
   "source": [
    "## Q4: Add duplicate elements, then remove the duplication"
   ]
  },
  {
   "cell_type": "code",
   "execution_count": 18,
   "id": "cf5a1d1a",
   "metadata": {},
   "outputs": [
    {
     "name": "stdout",
     "output_type": "stream",
     "text": [
      "11     rawan\n",
      "12      amal\n",
      "13       may\n",
      "101     amal\n",
      "101     amal\n",
      "dtype: object\n"
     ]
    },
    {
     "name": "stderr",
     "output_type": "stream",
     "text": [
      "C:\\Users\\Rawan\\AppData\\Local\\Temp\\ipykernel_26208\\1280684544.py:1: FutureWarning: The series.append method is deprecated and will be removed from pandas in a future version. Use pandas.concat instead.\n",
      "  ser = ser.append(pd.Series(\"amal\", index=[101]))\n"
     ]
    }
   ],
   "source": [
    "ser = ser.append(pd.Series(\"amal\", index=[101]))\n",
    "print(ser)"
   ]
  },
  {
   "cell_type": "code",
   "execution_count": 21,
   "id": "67282a9b",
   "metadata": {},
   "outputs": [
    {
     "name": "stdout",
     "output_type": "stream",
     "text": [
      "11    rawan\n",
      "12     amal\n",
      "13      may\n",
      "dtype: object\n"
     ]
    }
   ],
   "source": [
    "ser = ser.drop_duplicates()\n",
    "print(ser)"
   ]
  },
  {
   "cell_type": "markdown",
   "id": "329164fe",
   "metadata": {},
   "source": [
    "## Q5: Create a Students DataFrame has three columns (ID, Name)"
   ]
  },
  {
   "cell_type": "code",
   "execution_count": 22,
   "id": "873e1727",
   "metadata": {},
   "outputs": [
    {
     "name": "stdout",
     "output_type": "stream",
     "text": [
      "[['amal', 1], ['rawan', 2], ['may', 3]]\n"
     ]
    }
   ],
   "source": [
    " students = [['amal', 1 ],\n",
    "            ['rawan', 2],\n",
    "            ['may', 3]]\n",
    "\n",
    "df = pd.DataFrame(students,\n",
    "                  columns=['Name', 'ID'],\n",
    "                  index=['a', 'b', 'c'])\n",
    "print(students)\n",
    " "
   ]
  },
  {
   "cell_type": "markdown",
   "id": "2808d244",
   "metadata": {},
   "source": [
    "## Q6: Read educ_figdp_1_Data.csv file"
   ]
  },
  {
   "cell_type": "markdown",
   "id": "34574733",
   "metadata": {},
   "source": [
    "## Q7: What is the difference between loc and slicing?\n",
    "- loc use the index labels as references\n",
    "- slice use the position as references"
   ]
  },
  {
   "cell_type": "code",
   "execution_count": 23,
   "id": "0d5876f7",
   "metadata": {},
   "outputs": [],
   "source": [
    "df= pd.read_csv('educ_figdp_1_Data.csv')"
   ]
  },
  {
   "cell_type": "code",
   "execution_count": 25,
   "id": "bbd136db",
   "metadata": {},
   "outputs": [
    {
     "data": {
      "text/html": [
       "<div>\n",
       "<style scoped>\n",
       "    .dataframe tbody tr th:only-of-type {\n",
       "        vertical-align: middle;\n",
       "    }\n",
       "\n",
       "    .dataframe tbody tr th {\n",
       "        vertical-align: top;\n",
       "    }\n",
       "\n",
       "    .dataframe thead th {\n",
       "        text-align: right;\n",
       "    }\n",
       "</style>\n",
       "<table border=\"1\" class=\"dataframe\">\n",
       "  <thead>\n",
       "    <tr style=\"text-align: right;\">\n",
       "      <th></th>\n",
       "      <th>TIME</th>\n",
       "      <th>GEO</th>\n",
       "      <th>INDIC_ED</th>\n",
       "      <th>Value</th>\n",
       "      <th>Flag and Footnotes</th>\n",
       "    </tr>\n",
       "  </thead>\n",
       "  <tbody>\n",
       "    <tr>\n",
       "      <th>0</th>\n",
       "      <td>2000</td>\n",
       "      <td>European Union (28 countries)</td>\n",
       "      <td>Total public expenditure on education as % of ...</td>\n",
       "      <td>:</td>\n",
       "      <td>NaN</td>\n",
       "    </tr>\n",
       "    <tr>\n",
       "      <th>1</th>\n",
       "      <td>2001</td>\n",
       "      <td>European Union (28 countries)</td>\n",
       "      <td>Total public expenditure on education as % of ...</td>\n",
       "      <td>:</td>\n",
       "      <td>NaN</td>\n",
       "    </tr>\n",
       "    <tr>\n",
       "      <th>2</th>\n",
       "      <td>2002</td>\n",
       "      <td>European Union (28 countries)</td>\n",
       "      <td>Total public expenditure on education as % of ...</td>\n",
       "      <td>5.00</td>\n",
       "      <td>e</td>\n",
       "    </tr>\n",
       "    <tr>\n",
       "      <th>3</th>\n",
       "      <td>2003</td>\n",
       "      <td>European Union (28 countries)</td>\n",
       "      <td>Total public expenditure on education as % of ...</td>\n",
       "      <td>5.03</td>\n",
       "      <td>e</td>\n",
       "    </tr>\n",
       "    <tr>\n",
       "      <th>4</th>\n",
       "      <td>2004</td>\n",
       "      <td>European Union (28 countries)</td>\n",
       "      <td>Total public expenditure on education as % of ...</td>\n",
       "      <td>4.95</td>\n",
       "      <td>e</td>\n",
       "    </tr>\n",
       "    <tr>\n",
       "      <th>...</th>\n",
       "      <td>...</td>\n",
       "      <td>...</td>\n",
       "      <td>...</td>\n",
       "      <td>...</td>\n",
       "      <td>...</td>\n",
       "    </tr>\n",
       "    <tr>\n",
       "      <th>379</th>\n",
       "      <td>2007</td>\n",
       "      <td>Finland</td>\n",
       "      <td>Total public expenditure on education as % of ...</td>\n",
       "      <td>5.90</td>\n",
       "      <td>NaN</td>\n",
       "    </tr>\n",
       "    <tr>\n",
       "      <th>380</th>\n",
       "      <td>2008</td>\n",
       "      <td>Finland</td>\n",
       "      <td>Total public expenditure on education as % of ...</td>\n",
       "      <td>6.10</td>\n",
       "      <td>NaN</td>\n",
       "    </tr>\n",
       "    <tr>\n",
       "      <th>381</th>\n",
       "      <td>2009</td>\n",
       "      <td>Finland</td>\n",
       "      <td>Total public expenditure on education as % of ...</td>\n",
       "      <td>6.81</td>\n",
       "      <td>NaN</td>\n",
       "    </tr>\n",
       "    <tr>\n",
       "      <th>382</th>\n",
       "      <td>2010</td>\n",
       "      <td>Finland</td>\n",
       "      <td>Total public expenditure on education as % of ...</td>\n",
       "      <td>6.85</td>\n",
       "      <td>NaN</td>\n",
       "    </tr>\n",
       "    <tr>\n",
       "      <th>383</th>\n",
       "      <td>2011</td>\n",
       "      <td>Finland</td>\n",
       "      <td>Total public expenditure on education as % of ...</td>\n",
       "      <td>6.76</td>\n",
       "      <td>NaN</td>\n",
       "    </tr>\n",
       "  </tbody>\n",
       "</table>\n",
       "<p>384 rows × 5 columns</p>\n",
       "</div>"
      ],
      "text/plain": [
       "     TIME                            GEO  \\\n",
       "0    2000  European Union (28 countries)   \n",
       "1    2001  European Union (28 countries)   \n",
       "2    2002  European Union (28 countries)   \n",
       "3    2003  European Union (28 countries)   \n",
       "4    2004  European Union (28 countries)   \n",
       "..    ...                            ...   \n",
       "379  2007                        Finland   \n",
       "380  2008                        Finland   \n",
       "381  2009                        Finland   \n",
       "382  2010                        Finland   \n",
       "383  2011                        Finland   \n",
       "\n",
       "                                              INDIC_ED Value  \\\n",
       "0    Total public expenditure on education as % of ...     :   \n",
       "1    Total public expenditure on education as % of ...     :   \n",
       "2    Total public expenditure on education as % of ...  5.00   \n",
       "3    Total public expenditure on education as % of ...  5.03   \n",
       "4    Total public expenditure on education as % of ...  4.95   \n",
       "..                                                 ...   ...   \n",
       "379  Total public expenditure on education as % of ...  5.90   \n",
       "380  Total public expenditure on education as % of ...  6.10   \n",
       "381  Total public expenditure on education as % of ...  6.81   \n",
       "382  Total public expenditure on education as % of ...  6.85   \n",
       "383  Total public expenditure on education as % of ...  6.76   \n",
       "\n",
       "    Flag and Footnotes  \n",
       "0                  NaN  \n",
       "1                  NaN  \n",
       "2                    e  \n",
       "3                    e  \n",
       "4                    e  \n",
       "..                 ...  \n",
       "379                NaN  \n",
       "380                NaN  \n",
       "381                NaN  \n",
       "382                NaN  \n",
       "383                NaN  \n",
       "\n",
       "[384 rows x 5 columns]"
      ]
     },
     "execution_count": 25,
     "metadata": {},
     "output_type": "execute_result"
    }
   ],
   "source": [
    "df"
   ]
  },
  {
   "cell_type": "code",
   "execution_count": 26,
   "id": "a542dd92",
   "metadata": {},
   "outputs": [
    {
     "data": {
      "text/plain": [
       "0      2000\n",
       "1      2001\n",
       "2      2002\n",
       "3      2003\n",
       "4      2004\n",
       "       ... \n",
       "379    2007\n",
       "380    2008\n",
       "381    2009\n",
       "382    2010\n",
       "383    2011\n",
       "Name: TIME, Length: 384, dtype: int64"
      ]
     },
     "execution_count": 26,
     "metadata": {},
     "output_type": "execute_result"
    }
   ],
   "source": [
    "df_new = df.loc[:, 'TIME']\n",
    "df_new"
   ]
  },
  {
   "cell_type": "code",
   "execution_count": 27,
   "id": "08e0e5bc",
   "metadata": {},
   "outputs": [
    {
     "data": {
      "text/html": [
       "<div>\n",
       "<style scoped>\n",
       "    .dataframe tbody tr th:only-of-type {\n",
       "        vertical-align: middle;\n",
       "    }\n",
       "\n",
       "    .dataframe tbody tr th {\n",
       "        vertical-align: top;\n",
       "    }\n",
       "\n",
       "    .dataframe thead th {\n",
       "        text-align: right;\n",
       "    }\n",
       "</style>\n",
       "<table border=\"1\" class=\"dataframe\">\n",
       "  <thead>\n",
       "    <tr style=\"text-align: right;\">\n",
       "      <th></th>\n",
       "      <th>TIME</th>\n",
       "      <th>GEO</th>\n",
       "      <th>INDIC_ED</th>\n",
       "      <th>Value</th>\n",
       "      <th>Flag and Footnotes</th>\n",
       "    </tr>\n",
       "  </thead>\n",
       "  <tbody>\n",
       "    <tr>\n",
       "      <th>1</th>\n",
       "      <td>2001</td>\n",
       "      <td>European Union (28 countries)</td>\n",
       "      <td>Total public expenditure on education as % of ...</td>\n",
       "      <td>:</td>\n",
       "      <td>NaN</td>\n",
       "    </tr>\n",
       "    <tr>\n",
       "      <th>2</th>\n",
       "      <td>2002</td>\n",
       "      <td>European Union (28 countries)</td>\n",
       "      <td>Total public expenditure on education as % of ...</td>\n",
       "      <td>5.00</td>\n",
       "      <td>e</td>\n",
       "    </tr>\n",
       "  </tbody>\n",
       "</table>\n",
       "</div>"
      ],
      "text/plain": [
       "   TIME                            GEO  \\\n",
       "1  2001  European Union (28 countries)   \n",
       "2  2002  European Union (28 countries)   \n",
       "\n",
       "                                            INDIC_ED Value Flag and Footnotes  \n",
       "1  Total public expenditure on education as % of ...     :                NaN  \n",
       "2  Total public expenditure on education as % of ...  5.00                  e  "
      ]
     },
     "execution_count": 27,
     "metadata": {},
     "output_type": "execute_result"
    }
   ],
   "source": [
    "df_slice = df[1:3]\n",
    "df_slice"
   ]
  },
  {
   "cell_type": "code",
   "execution_count": null,
   "id": "1e327c35",
   "metadata": {},
   "outputs": [],
   "source": []
  },
  {
   "cell_type": "code",
   "execution_count": null,
   "id": "d5402ddf",
   "metadata": {},
   "outputs": [],
   "source": []
  }
 ],
 "metadata": {
  "kernelspec": {
   "display_name": "Python 3 (ipykernel)",
   "language": "python",
   "name": "python3"
  },
  "language_info": {
   "codemirror_mode": {
    "name": "ipython",
    "version": 3
   },
   "file_extension": ".py",
   "mimetype": "text/x-python",
   "name": "python",
   "nbconvert_exporter": "python",
   "pygments_lexer": "ipython3",
   "version": "3.9.13"
  }
 },
 "nbformat": 4,
 "nbformat_minor": 5
}
